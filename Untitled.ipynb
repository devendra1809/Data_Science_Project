{
 "cells": [
  {
   "cell_type": "code",
   "execution_count": 2,
   "id": "19036239-9852-4c1b-8688-419795ac5878",
   "metadata": {},
   "outputs": [],
   "source": [
    "import numpy as np\n",
    "\n"
   ]
  },
  {
   "cell_type": "code",
   "execution_count": 3,
   "id": "2a3f6cd6-61e8-4833-a171-b31594837372",
   "metadata": {},
   "outputs": [],
   "source": [
    "height=[1,2,3,4,5]\n"
   ]
  },
  {
   "cell_type": "code",
   "execution_count": 6,
   "id": "c087afb1-dcca-41de-b965-e93c61d73f2e",
   "metadata": {},
   "outputs": [],
   "source": [
    "np_h=np.array(height)"
   ]
  },
  {
   "cell_type": "code",
   "execution_count": 5,
   "id": "8b229340-6ce5-4f4f-b150-0e922b9a5ba2",
   "metadata": {},
   "outputs": [],
   "source": [
    "weight=[5,6,7,8,9]"
   ]
  },
  {
   "cell_type": "code",
   "execution_count": 7,
   "id": "6d5af9b3-e212-46a8-a238-c4becd5b1e72",
   "metadata": {},
   "outputs": [],
   "source": [
    "np_w=np.array(weight)"
   ]
  },
  {
   "cell_type": "code",
   "execution_count": 8,
   "id": "a405f8ea-f5a9-4452-8303-e35b1244d5ee",
   "metadata": {},
   "outputs": [],
   "source": [
    "bmi=np_w/np_h**2"
   ]
  },
  {
   "cell_type": "code",
   "execution_count": 9,
   "id": "56990523-95a2-4423-b8e0-dd79cbc78588",
   "metadata": {},
   "outputs": [
    {
     "data": {
      "text/plain": [
       "array([5.        , 1.5       , 0.77777778, 0.5       , 0.36      ])"
      ]
     },
     "execution_count": 9,
     "metadata": {},
     "output_type": "execute_result"
    }
   ],
   "source": [
    "bmi"
   ]
  },
  {
   "cell_type": "code",
   "execution_count": null,
   "id": "68fd48fa-5f55-454c-a40a-86f1fe04fbd9",
   "metadata": {},
   "outputs": [],
   "source": []
  }
 ],
 "metadata": {
  "kernelspec": {
   "display_name": "Python 3 (ipykernel)",
   "language": "python",
   "name": "python3"
  },
  "language_info": {
   "codemirror_mode": {
    "name": "ipython",
    "version": 3
   },
   "file_extension": ".py",
   "mimetype": "text/x-python",
   "name": "python",
   "nbconvert_exporter": "python",
   "pygments_lexer": "ipython3",
   "version": "3.11.8"
  }
 },
 "nbformat": 4,
 "nbformat_minor": 5
}
